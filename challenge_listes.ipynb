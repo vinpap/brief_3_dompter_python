{
 "cells": [
  {
   "cell_type": "markdown",
   "id": "d0166f13",
   "metadata": {},
   "source": [
    "# Notebook pour le challenge des listes"
   ]
  },
  {
   "cell_type": "code",
   "execution_count": 1,
   "id": "31e73216",
   "metadata": {},
   "outputs": [],
   "source": [
    "def generate_prices_list():\n",
    "    \n",
    "    \"\"\"On génère une liste de prix de maisons répartis équitablement sur l'intervalle [125000, 700000]\"\"\"\n",
    "    prices_count = 58\n",
    "    prices_list = []\n",
    "    \n",
    "    prices_list = list(range(125000, 700000, int((700000-125000)/(prices_count-1))))\n",
    "    return prices_list\n",
    "\n",
    "prix_de_58_maisons = generate_prices_list()"
   ]
  },
  {
   "cell_type": "code",
   "execution_count": 2,
   "id": "aafb8437",
   "metadata": {},
   "outputs": [
    {
     "name": "stdout",
     "output_type": "stream",
     "text": [
      "40 maisons ont un prix supérieur à 300 000 €\n",
      "15 maisons ont un prix compris entre 250 000 et 400 000 €\n",
      "48 maisons ont un prix qui n'est pas supérieur à 600 000 €\n",
      "8 maisons ont un prix inférieur à 150 000 € ou supérieur à 650 000 €\n"
     ]
    }
   ],
   "source": [
    "class Interval:\n",
    "    \n",
    "    \"\"\"Cette classe permet de stocker un intervalle de valeurs\"\"\"\n",
    "    \n",
    "    def __init__(self, interval_min=False, interval_max=False):\n",
    "        if not (interval_min or interval_max): raise ValueError(\"Il faut donner au moins une borne à l'intervalle !\")\n",
    "        self._min_value = interval_min\n",
    "        self._max_value = interval_max\n",
    "    \n",
    "    def is_in_interval(self, value):\n",
    "        \n",
    "        \"\"\"On peut appeler cette méthode pour voir si 'value' fait partie de l'intervalle stocké dans un objet Interval\"\"\"\n",
    "        if not self._min_value:\n",
    "            if value <= self._max_value: return True\n",
    "        elif not self._max_value: \n",
    "            if value >= self._min_value: return True\n",
    "        else:\n",
    "            if self._min_value <= value <= self._max_value: return True\n",
    "        return False\n",
    "\n",
    "def find_houses_in_price_intervals(intervals):\n",
    "    \n",
    "    \"\"\"Prend en paramètre un tuple d'objets Interval\"\"\"\n",
    "    count = 0\n",
    "    \n",
    "    for price in prix_de_58_maisons:\n",
    "        for interval in intervals:\n",
    "            if interval.is_in_interval(price): \n",
    "                count += 1\n",
    "                break\n",
    "    return count\n",
    "\n",
    "interval_1 = (Interval(interval_min=300000),)\n",
    "print(f\"{find_houses_in_price_intervals(interval_1)} maisons ont un prix supérieur à 300 000 €\")\n",
    "\n",
    "interval_2 = (Interval(250000, 400000),)\n",
    "print(f\"{find_houses_in_price_intervals(interval_2)} maisons ont un prix compris entre 250 000 et 400 000 €\")\n",
    "\n",
    "interval_3 = (Interval(interval_max=600000),)\n",
    "print(f\"{find_houses_in_price_intervals(interval_3)} maisons ont un prix qui n'est pas supérieur à 600 000 €\")\n",
    "\n",
    "intervals_intersection = (Interval(interval_max=150000), Interval(interval_min=650000))\n",
    "print(f\"{find_houses_in_price_intervals(intervals_intersection)} maisons ont un prix inférieur à 150 000 € ou supérieur à 650 000 €\")\n"
   ]
  },
  {
   "cell_type": "code",
   "execution_count": null,
   "id": "f9a396ef",
   "metadata": {},
   "outputs": [],
   "source": []
  },
  {
   "cell_type": "code",
   "execution_count": null,
   "id": "2ca8571f",
   "metadata": {},
   "outputs": [],
   "source": []
  }
 ],
 "metadata": {
  "kernelspec": {
   "display_name": "Python 3 (ipykernel)",
   "language": "python",
   "name": "python3"
  },
  "language_info": {
   "codemirror_mode": {
    "name": "ipython",
    "version": 3
   },
   "file_extension": ".py",
   "mimetype": "text/x-python",
   "name": "python",
   "nbconvert_exporter": "python",
   "pygments_lexer": "ipython3",
   "version": "3.9.12"
  }
 },
 "nbformat": 4,
 "nbformat_minor": 5
}
