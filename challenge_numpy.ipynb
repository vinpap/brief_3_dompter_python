{
 "cells": [
  {
   "cell_type": "markdown",
   "id": "23729c62",
   "metadata": {},
   "source": [
    "# Notebook pour le challenge numpy"
   ]
  },
  {
   "cell_type": "code",
   "execution_count": 1,
   "id": "cb913ffd",
   "metadata": {},
   "outputs": [
    {
     "name": "stdout",
     "output_type": "stream",
     "text": [
      "Coefficients calculés par la régression linéaire :\n",
      "[[  3.98807104]\n",
      " [-13.47591572]\n",
      " [-23.91576442]]\n"
     ]
    }
   ],
   "source": [
    "import numpy as np\n",
    "import pandas as pd\n",
    "\n",
    "\n",
    "def prepare_data():\n",
    "    \n",
    "    \"\"\"Pour commencer, il faut préparer les données pour les utiliser dans la régression.\n",
    "    La dataframe marathon_df comporte les données suivantes :\n",
    "    - le nombre de secondes du marathon\n",
    "    - l'année\n",
    "    - estParis (1 si la ville est Paris, 0 sinon)\n",
    "    - estBerlin (1 si la ville est Berlin, 0 sinon)\"\"\"\n",
    "    \n",
    "    marathon_df = pd.read_csv(\"data/marathon.txt\", sep=\"\\t\", names=[\"city\", \"year\", \"time\", \"seconds\"])\n",
    "\n",
    "    estPARIS = []\n",
    "    estBERLIN = []\n",
    "    for index, row in marathon_df.iterrows():\n",
    "        if row[0] == \"PARIS\": \n",
    "            estPARIS.append(1)\n",
    "            estBERLIN.append(0)\n",
    "        elif row[0] == \"BERLIN\": \n",
    "            estPARIS.append(0)\n",
    "            estBERLIN.append(1)\n",
    "        else: \n",
    "            estPARIS.append(0)\n",
    "            estBERLIN.append(0) \n",
    "            \n",
    "    marathon_df[\"in Paris\"] = estPARIS\n",
    "    marathon_df[\"in Berlin\"] = estBERLIN\n",
    "    marathon_df.drop([\"city\", \"time\"], axis=1, inplace=True)\n",
    "\n",
    "    return marathon_df\n",
    "\n",
    "def compute_coefficients(X, Y):\n",
    "    \n",
    "    \"\"\"Cette fonction calcule et renvoit la matrice A qui contient les coefficients que l'on cherche\"\"\"\n",
    "    \n",
    "    X = np.mat(X)\n",
    "    Y = np.mat(Y)\n",
    "    \n",
    "    # Cette ligne transforme le vecteur ligne Y en vecteur colonne (nécessaire pour pouvoir calculer X.T * Y)\n",
    "    Y = Y.T\n",
    "    A = ((X.T * X).I) * X.T * Y\n",
    "    \n",
    "    return A\n",
    "\n",
    "def perform_regression(dataset):\n",
    "    \n",
    "    \"\"\"Cette fonction répartir les données en deux dataframes x (entrée) et y (sortie)\"\"\"\n",
    "    \n",
    "    x_df = dataset[[\"year\", \"in Paris\", \"in Berlin\"]]\n",
    "    y_df = dataset[\"seconds\"]\n",
    "    x_matrix = x_df.to_numpy()\n",
    "    y_matrix = y_df.to_numpy()\n",
    "    \n",
    "    print(\"Coefficients calculés par la régression linéaire :\")\n",
    "    print(compute_coefficients(x_matrix, y_matrix))\n",
    "    \n",
    "    \n",
    "df = prepare_data()\n",
    "perform_regression(df)"
   ]
  },
  {
   "cell_type": "code",
   "execution_count": null,
   "id": "1c482263",
   "metadata": {},
   "outputs": [],
   "source": []
  },
  {
   "cell_type": "code",
   "execution_count": null,
   "id": "f877da14",
   "metadata": {},
   "outputs": [],
   "source": []
  }
 ],
 "metadata": {
  "kernelspec": {
   "display_name": "Python 3 (ipykernel)",
   "language": "python",
   "name": "python3"
  },
  "language_info": {
   "codemirror_mode": {
    "name": "ipython",
    "version": 3
   },
   "file_extension": ".py",
   "mimetype": "text/x-python",
   "name": "python",
   "nbconvert_exporter": "python",
   "pygments_lexer": "ipython3",
   "version": "3.9.12"
  }
 },
 "nbformat": 4,
 "nbformat_minor": 5
}
