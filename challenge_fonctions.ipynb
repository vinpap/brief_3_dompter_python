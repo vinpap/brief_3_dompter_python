{
 "cells": [
  {
   "cell_type": "code",
   "execution_count": 1,
   "id": "4a205571",
   "metadata": {},
   "outputs": [
    {
     "name": "stdout",
     "output_type": "stream",
     "text": [
      "3.0\n"
     ]
    }
   ],
   "source": [
    "def mean(values):\n",
    "    total = sum(values)\n",
    "    return total/len(values)"
   ]
  },
  {
   "cell_type": "code",
   "execution_count": 10,
   "id": "e6cd72aa",
   "metadata": {},
   "outputs": [
    {
     "name": "stdout",
     "output_type": "stream",
     "text": [
      "1.5\n",
      "1.5\n"
     ]
    }
   ],
   "source": [
    "def median(values):\n",
    "    values.sort()\n",
    "    if len(values)%2 == 1: median_value = values[len(values)//2]\n",
    "    else: median_value = mean([values[len(values)//2 -1], values[len(values)//2]])\n",
    "\n",
    "    return median_value\n",
    "\n",
    "\n",
    "        "
   ]
  },
  {
   "cell_type": "code",
   "execution_count": 16,
   "id": "adcd4402",
   "metadata": {},
   "outputs": [
    {
     "name": "stdout",
     "output_type": "stream",
     "text": [
      "1.5\n",
      "1.5\n",
      "0.25\n",
      "0.5\n"
     ]
    }
   ],
   "source": [
    "def variance(values):\n",
    "    total = 0\n",
    "    mean_value = mean(values)\n",
    "    for i in values:\n",
    "        total += (i - mean_value) ** 2\n",
    "    \n",
    "    return total/len(values)\n",
    "\n",
    "def ecart_type(values):\n",
    "    variance_value = variance(values)\n",
    "    return variance_value ** 0.5\n",
    "\n",
    "lst = [1, 2]\n",
    "print(mean(lst))\n",
    "print(median(lst))\n",
    "print(variance(lst))\n",
    "print(ecart_type(lst))\n",
    "    "
   ]
  },
  {
   "cell_type": "code",
   "execution_count": null,
   "id": "d2913fc0",
   "metadata": {},
   "outputs": [],
   "source": []
  }
 ],
 "metadata": {
  "kernelspec": {
   "display_name": "Python 3 (ipykernel)",
   "language": "python",
   "name": "python3"
  },
  "language_info": {
   "codemirror_mode": {
    "name": "ipython",
    "version": 3
   },
   "file_extension": ".py",
   "mimetype": "text/x-python",
   "name": "python",
   "nbconvert_exporter": "python",
   "pygments_lexer": "ipython3",
   "version": "3.9.12"
  }
 },
 "nbformat": 4,
 "nbformat_minor": 5
}
