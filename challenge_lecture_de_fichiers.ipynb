{
 "cells": [
  {
   "cell_type": "markdown",
   "id": "3ccdc968",
   "metadata": {},
   "source": [
    "# Notebook pour le challenge sur la lecture de fichiers"
   ]
  },
  {
   "cell_type": "code",
   "execution_count": 1,
   "id": "ba483c90",
   "metadata": {},
   "outputs": [
    {
     "name": "stdout",
     "output_type": "stream",
     "text": [
      "Aperçu des données récupérées :\n",
      "prima.txt :      pregnant  glucose  diastolic  triceps  insulin   bmi  diabetes  age  test\n",
      "0           6      148         72       35        0  33.6     0.627   50     1\n",
      "1           1       85         66       29        0  26.6     0.351   31     0\n",
      "2           8      183         64        0        0  23.3     0.672   32     1\n",
      "3           1       89         66       23       94  28.1     0.167   21     0\n",
      "4           0      137         40       35      168  43.1     2.288   33     1\n",
      "..        ...      ...        ...      ...      ...   ...       ...  ...   ...\n",
      "763        10      101         76       48      180  32.9     0.171   63     0\n",
      "764         2      122         70       27        0  36.8     0.340   27     0\n",
      "765         5      121         72       23      112  26.2     0.245   30     0\n",
      "766         1      126         60        0        0  30.1     0.349   47     1\n",
      "767         1       93         70       31        0  30.4     0.315   23     0\n",
      "\n",
      "[768 rows x 9 columns]\n"
     ]
    },
    {
     "name": "stderr",
     "output_type": "stream",
     "text": [
      "C:\\Users\\utilisateur\\AppData\\Local\\Temp\\ipykernel_7896\\775285812.py:21: DtypeWarning: Columns (12) have mixed types. Specify dtype option on import or set low_memory=False.\n",
      "  csv_df = pd.read_csv(csv_filepath)\n"
     ]
    },
    {
     "name": "stdout",
     "output_type": "stream",
     "text": [
      "mar2012.csv :          ANAISH DEPNAISH  INDNATH  ETAMATH  ANAISF DEPNAISF  INDNATF  ETAMATF  \\\n",
      "0         1982       75        1        1    1984       99        2        1   \n",
      "1         1956       69        2        4    1969       99        2        4   \n",
      "2         1982       99        2        1    1992       99        1        1   \n",
      "3         1985       99        2        1    1987       84        1        1   \n",
      "4         1968       99        2        1    1963       99        2        1   \n",
      "...        ...      ...      ...      ...     ...      ...      ...      ...   \n",
      "246118    1948       99        1        4    1955       27        1        1   \n",
      "246119    1961       99        1        4    1976       99        2        1   \n",
      "246120    1963       60        1        4    1970      971        1        4   \n",
      "246121    1973       99        2        1    1985      971        1        1   \n",
      "246122    1980       99        2        1    1982       90        1        1   \n",
      "\n",
      "        AMAR  MMAR  JSEMAINE DEPMAR DEPDOM  TUDOM TUCOM NBENFCOM  \n",
      "0       2012     1         1     29     99      9   NaN        N  \n",
      "1       2012     1         3     75     99      9   NaN        N  \n",
      "2       2012     1         5     34     99      9   NaN        N  \n",
      "3       2012     1         4     13     99      9   NaN        N  \n",
      "4       2012     1         6     26     99      9   NaN        N  \n",
      "...      ...   ...       ...    ...    ...    ...   ...      ...  \n",
      "246118  2012    12         6    978    978      9     P        N  \n",
      "246119  2012    12         6    978    978      9     P        O  \n",
      "246120  2012    12         5    978    978      9     P        N  \n",
      "246121  2012    12         5    978    978      9     P        N  \n",
      "246122  2012    12         5    978    978      9     P        N  \n",
      "\n",
      "[246123 rows x 16 columns]\n",
      "mar2012.dbf :         ANAISH DEPNAISH INDNATH ETAMATH ANAISF DEPNAISF INDNATF ETAMATF  AMAR  \\\n",
      "0        1982       75       1       1   1984       99       2       1  2012   \n",
      "1        1956       69       2       4   1969       99       2       4  2012   \n",
      "2        1982       99       2       1   1992       99       1       1  2012   \n",
      "3        1985       99       2       1   1987       84       1       1  2012   \n",
      "4        1968       99       2       1   1963       99       2       1  2012   \n",
      "...       ...      ...     ...     ...    ...      ...     ...     ...   ...   \n",
      "246118   1948       99       1       4   1955       27       1       1  2012   \n",
      "246119   1961       99       1       4   1976       99       2       1  2012   \n",
      "246120   1963       60       1       4   1970      971       1       4  2012   \n",
      "246121   1973       99       2       1   1985      971       1       1  2012   \n",
      "246122   1980       99       2       1   1982       90       1       1  2012   \n",
      "\n",
      "       MMAR JSEMAINE DEPMAR DEPDOM TUDOM TUCOM NBENFCOM  \n",
      "0        01        1     29     99     9   NaN        N  \n",
      "1        01        3     75     99     9   NaN        N  \n",
      "2        01        5     34     99     9   NaN        N  \n",
      "3        01        4     13     99     9   NaN        N  \n",
      "4        01        6     26     99     9   NaN        N  \n",
      "...     ...      ...    ...    ...   ...   ...      ...  \n",
      "246118   12        6    978    978     9     P        N  \n",
      "246119   12        6    978    978     9     P        O  \n",
      "246120   12        5    978    978     9     P        N  \n",
      "246121   12        5    978    978     9     P        N  \n",
      "246122   12        5    978    978     9     P        N  \n",
      "\n",
      "[246123 rows x 16 columns]\n"
     ]
    }
   ],
   "source": [
    "import pandas as pd\n",
    "from simpledbf import Dbf5\n",
    "\n",
    "txt_filepath = \"data/prima.txt\"\n",
    "csv_filepath = \"data/mar2012.csv\"\n",
    "dbf_filepath = \"data/mar2012.dbf\"\n",
    "\n",
    "def read_txt_file():\n",
    "    \n",
    "    \"\"\"Ouvre le fichier prima.txt, stocke le contenu dans txt_df\"\"\"\n",
    "    \n",
    "    txt_df = pd.read_table(txt_filepath)\n",
    "    return txt_df\n",
    "\n",
    "def read_csv_file():\n",
    "    \n",
    "    \"\"\"Récupère les données du csv\"\"\"\n",
    "    \n",
    "    csv_df = pd.read_csv(csv_filepath)\n",
    "    return csv_df\n",
    "\n",
    "def read_dbf_file():\n",
    "    \n",
    "    \"\"\"Récupère les données du fichier dbf\"\"\"\n",
    "    \n",
    "    dbf = Dbf5(dbf_filepath)\n",
    "    dbf_df = dbf.to_dataframe()\n",
    "    return dbf_df\n",
    "\n",
    "print(\"Aperçu des données récupérées :\")\n",
    "print(\"prima.txt :\", read_txt_file())\n",
    "print(\"mar2012.csv : \", read_csv_file())\n",
    "print(\"mar2012.dbf : \", read_dbf_file())\n",
    "    "
   ]
  },
  {
   "cell_type": "code",
   "execution_count": null,
   "id": "86c2716c",
   "metadata": {},
   "outputs": [],
   "source": []
  }
 ],
 "metadata": {
  "kernelspec": {
   "display_name": "Python 3 (ipykernel)",
   "language": "python",
   "name": "python3"
  },
  "language_info": {
   "codemirror_mode": {
    "name": "ipython",
    "version": 3
   },
   "file_extension": ".py",
   "mimetype": "text/x-python",
   "name": "python",
   "nbconvert_exporter": "python",
   "pygments_lexer": "ipython3",
   "version": "3.9.12"
  }
 },
 "nbformat": 4,
 "nbformat_minor": 5
}
