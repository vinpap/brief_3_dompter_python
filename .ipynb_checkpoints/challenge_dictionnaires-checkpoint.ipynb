{
 "cells": [
  {
   "cell_type": "markdown",
   "id": "2085f2c8",
   "metadata": {},
   "source": [
    "# Notebook pour le challenge sur les dictionnaires "
   ]
  },
  {
   "cell_type": "code",
   "execution_count": null,
   "id": "80652098",
   "metadata": {},
   "outputs": [],
   "source": [
    "# Question 1\n",
    "\n",
    "import statistics\n",
    "\n",
    "ventes_commerciaux = {\"Marie\": 15, \n",
    "                      \"Samuel\": 17,\n",
    "                      \"Gaston\": 12,\n",
    "                      \"Fred\": 10,\n",
    "                      \"Mae\": 5,\n",
    "                      \"Julie\": 15,\n",
    "                      \"Zoe\": 7,\n",
    "                      \"Claire\": 20,\n",
    "                      \"Chloe\": 8,\n",
    "                      \"Julien\": 14,\n",
    "                      \"Gael\": 9,\n",
    "                      \"Samia\": 15,\n",
    "                      \"Omar\": 11,\n",
    "                      \"Gabriel\": 16,\n",
    "                      \"Manon\": 2}\n"
   ]
  },
  {
   "cell_type": "code",
   "execution_count": 2,
   "id": "82716f96",
   "metadata": {},
   "outputs": [
    {
     "name": "stdout",
     "output_type": "stream",
     "text": [
      "Les ventes moyennes par commercial sont de 11.733333333333333\n"
     ]
    }
   ],
   "source": [
    "# Question 2\n",
    "\n",
    "mean_sales = statistics.mean(ventes_commerciaux.values())\n",
    "print(f\"Les ventes moyennes par commercial sont de {mean_sales}\")"
   ]
  },
  {
   "cell_type": "code",
   "execution_count": 3,
   "id": "91e7c4d4",
   "metadata": {},
   "outputs": [
    {
     "name": "stdout",
     "output_type": "stream",
     "text": [
      "Au total, il y a 15 vendeurs\n"
     ]
    }
   ],
   "source": [
    "# Question 3\n",
    "\n",
    "print(f\"Au total, il y a {len(ventes_commerciaux.keys())} vendeurs\")\n"
   ]
  },
  {
   "cell_type": "code",
   "execution_count": 4,
   "id": "e760ca58",
   "metadata": {},
   "outputs": [
    {
     "name": "stdout",
     "output_type": "stream",
     "text": [
      "8 vendeurs ont réalisé plus de ventes que la moyenne\n"
     ]
    }
   ],
   "source": [
    "# Question 4\n",
    "\n",
    "sales_over_mean = 0\n",
    "for c in ventes_commerciaux:\n",
    "    if ventes_commerciaux[c] > mean_sales: sales_over_mean += 1\n",
    "\n",
    "print(f\"{sales_over_mean} vendeurs ont réalisé plus de ventes que la moyenne\")"
   ]
  },
  {
   "cell_type": "code",
   "execution_count": 7,
   "id": "1566e71c",
   "metadata": {},
   "outputs": [
    {
     "name": "stdout",
     "output_type": "stream",
     "text": [
      "La meilleure vendeuse est Claire\n"
     ]
    }
   ],
   "source": [
    "# Question 5\n",
    "\n",
    "max_sale = max(ventes_commerciaux.values())\n",
    "\n",
    "# On cherche la clé correspondant à la valeur max_sale dans le dictionnaire\n",
    "best_salesperson = [k for k,v in ventes_commerciaux.items() if float(v) == max_sale]\n",
    "print(f\"La meilleure vendeuse est {best_salesperson[0]}\")"
   ]
  },
  {
   "cell_type": "code",
   "execution_count": 8,
   "id": "056ebd6e",
   "metadata": {},
   "outputs": [
    {
     "name": "stdout",
     "output_type": "stream",
     "text": [
      "Au total, 2 vendeurs ont un prénom strictement plus court que 4 lettres\n"
     ]
    }
   ],
   "source": [
    "# Question 6\n",
    "\n",
    "short_names = [k for k in ventes_commerciaux if len(k) < 4]\n",
    "print(f\"Au total, {len(short_names)} vendeurs ont un prénom strictement plus court que 4 lettres\")"
   ]
  },
  {
   "cell_type": "code",
   "execution_count": 9,
   "id": "0018b3d0",
   "metadata": {},
   "outputs": [
    {
     "name": "stdout",
     "output_type": "stream",
     "text": [
      "Les vendeurs qui ont réalisé un nombre de ventes pair sont les suivants:\n",
      "Gaston\n",
      "Fred\n",
      "Claire\n",
      "Chloe\n",
      "Julien\n",
      "Gabriel\n",
      "Manon\n"
     ]
    }
   ],
   "source": [
    "# Question 7\n",
    "\n",
    "people_with_even_sales = [k for k in ventes_commerciaux if ventes_commerciaux[k] % 2 == 0]\n",
    "print(\"Les vendeurs qui ont réalisé un nombre de ventes pair sont les suivants:\")\n",
    "for p in people_with_even_sales: print(p)"
   ]
  },
  {
   "cell_type": "code",
   "execution_count": null,
   "id": "a0584972",
   "metadata": {},
   "outputs": [],
   "source": []
  }
 ],
 "metadata": {
  "kernelspec": {
   "display_name": "Python 3 (ipykernel)",
   "language": "python",
   "name": "python3"
  },
  "language_info": {
   "codemirror_mode": {
    "name": "ipython",
    "version": 3
   },
   "file_extension": ".py",
   "mimetype": "text/x-python",
   "name": "python",
   "nbconvert_exporter": "python",
   "pygments_lexer": "ipython3",
   "version": "3.9.12"
  }
 },
 "nbformat": 4,
 "nbformat_minor": 5
}
