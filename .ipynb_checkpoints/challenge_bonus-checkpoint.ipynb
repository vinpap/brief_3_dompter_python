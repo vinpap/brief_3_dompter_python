{
 "cells": [
  {
   "cell_type": "markdown",
   "id": "4f889468",
   "metadata": {},
   "source": [
    "# Notebook pour le challenge bonus"
   ]
  },
  {
   "cell_type": "code",
   "execution_count": 18,
   "id": "04ecd62c",
   "metadata": {},
   "outputs": [],
   "source": [
    "# Question 1\n",
    "import re\n",
    "\n",
    "def mots_lettre_position (liste, lettre, position) :\n",
    "    \n",
    "    matching_names = []\n",
    "    regular_expression = r\"\" + position * \".\" + lettre\n",
    "\n",
    "    for name in liste:\n",
    "        if re.match(regular_expression, name): matching_names.append(name)\n",
    "    \n",
    "    return matching_names"
   ]
  },
  {
   "cell_type": "code",
   "execution_count": 21,
   "id": "26d8acb3",
   "metadata": {},
   "outputs": [
    {
     "name": "stdout",
     "output_type": "stream",
     "text": [
      "Les noms de la liste dont la deuxième lettre est Y sont les suivants :\n",
      "tywin\n",
      "tyrion\n"
     ]
    }
   ],
   "source": [
    "mots = ['eddard', 'catelyn', 'robb', 'sansa', 'arya', 'brandon',\n",
    "        'rickon', 'theon', 'rorbert', 'cersei', 'tywin', 'jaime',\n",
    "        'tyrion', 'shae', 'bronn', 'lancel', 'joffrey', 'sandor',\n",
    "        'varys', 'renly', 'a' ]\n",
    "\n",
    "names = mots_lettre_position(mots, \"y\", 1)\n",
    "print(\"Les noms de la liste dont la deuxième lettre est Y sont les suivants :\")\n",
    "for n in names: print(n)"
   ]
  },
  {
   "cell_type": "code",
   "execution_count": 29,
   "id": "12996b70",
   "metadata": {},
   "outputs": [
    {
     "name": "stdout",
     "output_type": "stream",
     "text": [
      "Les noms de la liste dont la deuxième lettre est Y sont les suivants :\n",
      "robb\n",
      "rickon\n",
      "rorbert\n",
      "renly\n"
     ]
    }
   ],
   "source": [
    "# Question 2\n",
    "\n",
    "dictionnaire_bien_choisi = {}\n",
    "\n",
    "for name in mots:\n",
    "    for i in range(len(name)):\n",
    "        if not (i, name[i]) in dictionnaire_bien_choisi: \n",
    "            dictionnaire_bien_choisi[(i, name[i])] = []\n",
    "        dictionnaire_bien_choisi[(i, name[i])].append(name)\n",
    "\n",
    "def mots_lettre_position (dictionnaire_bien_choisi, lettre, position) :\n",
    "    \n",
    "    return dictionnaire_bien_choisi. get ((position, lettre), []) \n",
    "\n",
    "names = mots_lettre_position(dictionnaire_bien_choisi, \"y\", 1)\n",
    "print(\"Les noms de la liste dont la deuxième lettre est Y sont les suivants :\")\n",
    "for name in names: print(name)\n",
    "\n"
   ]
  },
  {
   "cell_type": "code",
   "execution_count": null,
   "id": "28052e0e",
   "metadata": {},
   "outputs": [],
   "source": []
  }
 ],
 "metadata": {
  "kernelspec": {
   "display_name": "Python 3 (ipykernel)",
   "language": "python",
   "name": "python3"
  },
  "language_info": {
   "codemirror_mode": {
    "name": "ipython",
    "version": 3
   },
   "file_extension": ".py",
   "mimetype": "text/x-python",
   "name": "python",
   "nbconvert_exporter": "python",
   "pygments_lexer": "ipython3",
   "version": "3.9.12"
  }
 },
 "nbformat": 4,
 "nbformat_minor": 5
}
