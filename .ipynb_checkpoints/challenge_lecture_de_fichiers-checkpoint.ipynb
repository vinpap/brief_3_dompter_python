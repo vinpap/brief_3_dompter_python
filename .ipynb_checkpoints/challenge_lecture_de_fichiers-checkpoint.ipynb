{
 "cells": [
  {
   "cell_type": "code",
   "execution_count": 9,
   "id": "ba483c90",
   "metadata": {},
   "outputs": [
    {
     "name": "stdout",
     "output_type": "stream",
     "text": [
      "        ANAISH DEPNAISH  INDNATH  ETAMATH  ANAISF DEPNAISF  INDNATF  ETAMATF  \\\n",
      "0         1982       75        1        1    1984       99        2        1   \n",
      "1         1956       69        2        4    1969       99        2        4   \n",
      "2         1982       99        2        1    1992       99        1        1   \n",
      "3         1985       99        2        1    1987       84        1        1   \n",
      "4         1968       99        2        1    1963       99        2        1   \n",
      "...        ...      ...      ...      ...     ...      ...      ...      ...   \n",
      "246118    1948       99        1        4    1955       27        1        1   \n",
      "246119    1961       99        1        4    1976       99        2        1   \n",
      "246120    1963       60        1        4    1970      971        1        4   \n",
      "246121    1973       99        2        1    1985      971        1        1   \n",
      "246122    1980       99        2        1    1982       90        1        1   \n",
      "\n",
      "        AMAR  MMAR  JSEMAINE DEPMAR DEPDOM  TUDOM TUCOM NBENFCOM  \n",
      "0       2012     1         1     29     99      9   NaN        N  \n",
      "1       2012     1         3     75     99      9   NaN        N  \n",
      "2       2012     1         5     34     99      9   NaN        N  \n",
      "3       2012     1         4     13     99      9   NaN        N  \n",
      "4       2012     1         6     26     99      9   NaN        N  \n",
      "...      ...   ...       ...    ...    ...    ...   ...      ...  \n",
      "246118  2012    12         6    978    978      9     P        N  \n",
      "246119  2012    12         6    978    978      9     P        O  \n",
      "246120  2012    12         5    978    978      9     P        N  \n",
      "246121  2012    12         5    978    978      9     P        N  \n",
      "246122  2012    12         5    978    978      9     P        N  \n",
      "\n",
      "[246123 rows x 16 columns]\n"
     ]
    },
    {
     "name": "stderr",
     "output_type": "stream",
     "text": [
      "C:\\Users\\utilisateur\\AppData\\Local\\Temp\\ipykernel_8116\\1162743701.py:16: DtypeWarning: Columns (12) have mixed types. Specify dtype option on import or set low_memory=False.\n",
      "  csv_df = pd.read_csv(csv_filepath)\n"
     ]
    }
   ],
   "source": [
    "import pandas as pd\n",
    "from simpledbf import Dbf5\n",
    "\n",
    "txt_filepath = \"data/prima.txt\"\n",
    "csv_filepath = \"data/mar2012.csv\"\n",
    "dbf_filepath = \"data/mar2012.dbf\"\n",
    "\n",
    "def read_txt_file():\n",
    "    \"\"\"NE PAS OUBLIER D'ECRIRE LES DOCSTRINGS\"\"\"\n",
    "        \n",
    "    txt_df = pd.read_table(txt_filepath)\n",
    "    return txt_df\n",
    "\n",
    "def read_csv_file():\n",
    "        \n",
    "    csv_df = pd.read_csv(csv_filepath)\n",
    "    return csv_df\n",
    "\n",
    "def read_dbf_file():\n",
    "    \n",
    "    dbf = Dbf5(dbf_filepath)\n",
    "    dbf_df = dbf.to_dataframe()\n",
    "    return dbf_df\n",
    "\n",
    "    "
   ]
  },
  {
   "cell_type": "code",
   "execution_count": null,
   "id": "86c2716c",
   "metadata": {},
   "outputs": [],
   "source": []
  }
 ],
 "metadata": {
  "kernelspec": {
   "display_name": "Python 3 (ipykernel)",
   "language": "python",
   "name": "python3"
  },
  "language_info": {
   "codemirror_mode": {
    "name": "ipython",
    "version": 3
   },
   "file_extension": ".py",
   "mimetype": "text/x-python",
   "name": "python",
   "nbconvert_exporter": "python",
   "pygments_lexer": "ipython3",
   "version": "3.9.12"
  }
 },
 "nbformat": 4,
 "nbformat_minor": 5
}
