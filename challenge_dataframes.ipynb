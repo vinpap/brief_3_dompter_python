{
 "cells": [
  {
   "cell_type": "code",
   "execution_count": 38,
   "id": "f6ab1a5d",
   "metadata": {},
   "outputs": [
    {
     "name": "stdout",
     "output_type": "stream",
     "text": [
      "Les applications les plus téléchargées sont les suivantes :\n",
      "                                          App             Category  \\\n",
      "424                                     Gmail        COMMUNICATION   \n",
      "360  Messenger – Text and Video Chat for Free        COMMUNICATION   \n",
      "436                                  Hangouts        COMMUNICATION   \n",
      "359                        WhatsApp Messenger        COMMUNICATION   \n",
      "440             Skype - free IM & video calls        COMMUNICATION   \n",
      "316              Google Chrome: Fast & Secure        COMMUNICATION   \n",
      "139                         Google Play Books  BOOKS_AND_REFERENCE   \n",
      "\n",
      "                Genres  \n",
      "424      Communication  \n",
      "360      Communication  \n",
      "436      Communication  \n",
      "359      Communication  \n",
      "440      Communication  \n",
      "316      Communication  \n",
      "139  Books & Reference  \n",
      "\n",
      "Voici les informations concernant l'application ayant reçu le plus de reviews :\n",
      "WhatsApp Messenger est l'application qui a reçu le maximum de reviews (69119316). Sa note est 4.4\n"
     ]
    }
   ],
   "source": [
    "# QUESTIONS 1 ET 2\n",
    "\n",
    "import pandas as pd\n",
    "\n",
    "filepath = \"data/googleplaystore_1.csv\"\n",
    "df_google_ap_1 = pd.read_csv(filepath, sep=\";\")\n",
    "\n",
    "def get_most_installed_apps(df_google_ap_1):\n",
    "    \n",
    "    \"\"\"Renvoit une dataframe qui contient uniquement les applications ayant plus d'un milliard d'installations, après avoir \n",
    "    supprimé les doublons\"\"\"\n",
    "    \n",
    "    # On formatte les valeurs de la colonne Installs pour toutes les mettre au même format, supprimer les +, les M, etc,\n",
    "    # avant de convertir la colonne en floats\n",
    "    df_google_ap_1['Installs'] = df_google_ap_1['Installs'].apply(lambda x: x.rstrip(\"+\").replace(\",\", \"\").replace(\"M\", \"00000\"))\n",
    "\n",
    "    # A cause d'erreurs dans le set de données, certaines valeurs sont dans la même colonne et ne peuvent pas être transformées\n",
    "    # en floats. La boucle ci-dessous supprime les lignes qui ne sont pas valides\n",
    "    clean_dataframe = df_google_ap_1\n",
    "    for index, row in df_google_ap_1.iterrows():\n",
    "        try:\n",
    "            float(row[\"Installs\"])\n",
    "        except ValueError: \n",
    "            clean_dataframe = clean_dataframe.drop(index)\n",
    "\n",
    "    clean_dataframe['Installs'] = clean_dataframe['Installs'].astype(float)\n",
    "    clean_dataframe = clean_dataframe.sort_values(by=[\"Installs\"], ascending=False)\n",
    "\n",
    "    filtered_df = clean_dataframe.query(\"Installs >= 1000000000\")\n",
    "    # On ne garde que les colonnes \"App\", \"Category\" et \"Genres\"\n",
    "    filtered_df = filtered_df[[\"App\", \"Category\", \"Genres\"]]\n",
    "    # Suppressions des doublons\n",
    "    filtered_df.drop_duplicates(inplace=True)\n",
    "\n",
    "    return filtered_df\n",
    "\n",
    "print(\"Les applications les plus téléchargées sont les suivantes :\")\n",
    "print(get_most_installed_apps(df_google_ap_1))\n"
   ]
  },
  {
   "cell_type": "code",
   "execution_count": 39,
   "id": "714e32de",
   "metadata": {},
   "outputs": [
    {
     "name": "stdout",
     "output_type": "stream",
     "text": [
      "\n",
      "Voici les informations concernant l'application ayant reçu le plus de reviews :\n",
      "WhatsApp Messenger est l'application qui a reçu le maximum de reviews (69119316). Sa note est 4.4\n"
     ]
    }
   ],
   "source": [
    "# QUESTION 3\n",
    "\n",
    "def get_app_with_most_reviews(df_google_ap_1):\n",
    "    \"\"\"Renvoit les infos concernant l'application qui a le plus de reviews\"\"\"\n",
    "    \n",
    "    df_google_ap_1.sort_values(by=\"Reviews\", inplace=True, ascending=False)\n",
    "    app_info = df_google_ap_1.iloc[0]\n",
    "    return app_info\n",
    "\n",
    "print(\"\\nVoici les informations concernant l'application ayant reçu le plus de reviews :\")\n",
    "app_data = get_app_with_most_reviews(df_google_ap_1)\n",
    "print(f\"{app_data['App']} est l'application qui a reçu le maximum de reviews ({int(app_data['Reviews'])}). Sa note est {app_data['Rating']}\")"
   ]
  },
  {
   "cell_type": "code",
   "execution_count": 43,
   "id": "cc30f08d",
   "metadata": {},
   "outputs": [
    {
     "name": "stdout",
     "output_type": "stream",
     "text": [
      "    Rating    Installs  Type\n",
      "313    4.0  1000000000  Free\n",
      "394    4.5   500000000  Free\n",
      "356    4.5   500000000  Free\n",
      "381    4.3   100000000  Free\n",
      "439    4.3   500000000  Free\n",
      "363    4.3   500000000  Free\n",
      "405    4.3   500000000  Free\n",
      "320    4.3   500000000  Free\n",
      "446    4.2   500000000  Free\n",
      "378    4.2   500000000  Free\n",
      "440    4.1  1000000000  Free\n",
      "368    4.1  1000000000  Free\n",
      "386    4.3  1000000000  Free\n"
     ]
    }
   ],
   "source": [
    "# QUESTION 4\n",
    "\n",
    "def get_selected_data(df):\n",
    "    \"\"\"Renvoit les lignes et colonnes demandées\"\"\"\n",
    "    columns_to_display = df.iloc[3:16,[2, 5, 6]]\n",
    "    return columns_to_display\n",
    "\n",
    "print(get_selected_data(df_google_ap_1))\n",
    "    "
   ]
  },
  {
   "cell_type": "code",
   "execution_count": 51,
   "id": "6f56aa48",
   "metadata": {},
   "outputs": [
    {
     "name": "stdout",
     "output_type": "stream",
     "text": [
      "Au total, 345 applications sont ouvertes aux personnes de tous âges\n"
     ]
    }
   ],
   "source": [
    "# QUESTION 5\n",
    "\n",
    "def select_content_rating(df):\n",
    "    \n",
    "    filtered_df = df.query(\"`Content Rating` == 'Everyone'\")\n",
    "    # On supprime les doublons\n",
    "    filtered_df = filtered_df.drop_duplicates()\n",
    "    return filtered_df\n",
    "\n",
    "apps_for_everyone = select_content_rating(df_google_ap_1).shape[0]\n",
    "print(f\"Au total, {apps_for_everyone} applications sont ouvertes aux personnes de tous âges\")"
   ]
  },
  {
   "cell_type": "code",
   "execution_count": 54,
   "id": "1feed96c",
   "metadata": {},
   "outputs": [
    {
     "name": "stdout",
     "output_type": "stream",
     "text": [
      "La catégorie d'applications la plus représentée est COMMUNICATION\n"
     ]
    }
   ],
   "source": [
    "# Question 6\n",
    "\n",
    "def get_biggest_category(df): return df['Category'].mode()\n",
    "\n",
    "print(f\"La catégorie d'applications la plus représentée est {get_biggest_category(df_google_ap_1)[0]}\")\n",
    "    \n",
    "    \n",
    "\n"
   ]
  },
  {
   "cell_type": "code",
   "execution_count": 61,
   "id": "52813682",
   "metadata": {},
   "outputs": [
    {
     "name": "stdout",
     "output_type": "stream",
     "text": [
      "L'application la plus chère est AMBW Dating App: Asian Men Black Women Interracial\n"
     ]
    }
   ],
   "source": [
    "# Question 7\n",
    "\n",
    "def get_most_expensive_app(df):\n",
    "    filtered_df = df.query(\"Price == '$7.99'\")\n",
    "    return filtered_df\n",
    "\n",
    "print(f\"L'application la plus chère est {get_most_expensive_app(df_google_ap_1).iloc[0, 0]}\")"
   ]
  },
  {
   "cell_type": "code",
   "execution_count": null,
   "id": "7e6b6353",
   "metadata": {},
   "outputs": [],
   "source": []
  }
 ],
 "metadata": {
  "kernelspec": {
   "display_name": "Python 3 (ipykernel)",
   "language": "python",
   "name": "python3"
  },
  "language_info": {
   "codemirror_mode": {
    "name": "ipython",
    "version": 3
   },
   "file_extension": ".py",
   "mimetype": "text/x-python",
   "name": "python",
   "nbconvert_exporter": "python",
   "pygments_lexer": "ipython3",
   "version": "3.9.12"
  }
 },
 "nbformat": 4,
 "nbformat_minor": 5
}
